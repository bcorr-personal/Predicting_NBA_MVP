{
  "nbformat": 4,
  "nbformat_minor": 0,
  "metadata": {
    "colab": {
      "name": "Model",
      "provenance": [],
      "collapsed_sections": [],
      "authorship_tag": "ABX9TyPPd77Y3xooQj75mhNEJYGJ",
      "include_colab_link": true
    },
    "kernelspec": {
      "name": "python3",
      "display_name": "Python 3"
    }
  },
  "cells": [
    {
      "cell_type": "markdown",
      "metadata": {
        "id": "view-in-github",
        "colab_type": "text"
      },
      "source": [
        "<a href=\"https://colab.research.google.com/github/bcorr24/Final-Project-Data-301/blob/master/Model.ipynb\" target=\"_parent\"><img src=\"https://colab.research.google.com/assets/colab-badge.svg\" alt=\"Open In Colab\"/></a>"
      ]
    },
    {
      "cell_type": "markdown",
      "metadata": {
        "id": "k6L8dcvx_5l2",
        "colab_type": "text"
      },
      "source": [
        "##Predicting MVP by Allstars"
      ]
    },
    {
      "cell_type": "code",
      "metadata": {
        "id": "SoIU9Z2o7g1p",
        "colab_type": "code",
        "colab": {
          "base_uri": "https://localhost:8080/",
          "height": 55
        },
        "outputId": "5973c8e2-944d-40f4-8598-2caf00587455"
      },
      "source": [
        "import pandas as pd\n",
        "from google.colab import drive\n",
        "drive.mount('/content/gdrive')\n",
        "full_data = pd.read_csv('/content/gdrive/My Drive/full_data.csv')"
      ],
      "execution_count": 1,
      "outputs": [
        {
          "output_type": "stream",
          "text": [
            "Drive already mounted at /content/gdrive; to attempt to forcibly remount, call drive.mount(\"/content/gdrive\", force_remount=True).\n"
          ],
          "name": "stdout"
        }
      ]
    },
    {
      "cell_type": "markdown",
      "metadata": {
        "id": "WhnDX_uf9ei5",
        "colab_type": "text"
      },
      "source": [
        "I wanted to try and predict this years mvp by using the data I have so for this part I split up the data into two sections. One training data set and then the prediction data set."
      ]
    },
    {
      "cell_type": "code",
      "metadata": {
        "id": "HUl5yYvC76y0",
        "colab_type": "code",
        "colab": {}
      },
      "source": [
        "prediction_data = full_data[full_data[\"Season\"] == \"2019-20\"]\n",
        "full_data = full_data[full_data[\"Season\"] != \"2019-20\"]"
      ],
      "execution_count": 0,
      "outputs": []
    },
    {
      "cell_type": "code",
      "metadata": {
        "id": "had5mMCr-ohK",
        "colab_type": "code",
        "colab": {}
      },
      "source": [
        "#cleaning up the data a little to work on it\n",
        "from sklearn.preprocessing import StandardScaler, OneHotEncoder\n",
        "from sklearn.neighbors import KNeighborsClassifier\n",
        "from sklearn.pipeline import make_pipeline\n",
        "from sklearn.compose import make_column_transformer\n",
        "from sklearn.model_selection import cross_val_score\n",
        "from sklearn.linear_model import LinearRegression\n",
        "from sklearn.feature_extraction.text import TfidfVectorizer\n",
        "import numpy as np\n",
        "\n",
        "\n",
        "full_data[[\"games_played\", \"Age\", \"mpg\",\t\"ppg\",\t\"rpg\",\t\"apg\",\n",
        "      \"spg\",\t\"bpg\",\t\"FG%\",\t\"3%\",\t\"FT%\"]] = full_data[[\"games_played\",\"Age\",\n",
        "      \"mpg\",\t\"ppg\",\t\"rpg\",\t\"apg\",\t\"spg\",\t\"bpg\",\t\"FG%\",\t\"3%\",\t\"FT%\"\n",
        "      ]].apply(pd.to_numeric, errors='coerce', axis=1)\n",
        "\n",
        "#fill the missing data with the median so i can still use those data points\n",
        "median_mpg = full_data['mpg'].median()\n",
        "median_spg = full_data['spg'].median()\n",
        "median_bpg = full_data['bpg'].median()\n",
        "median_3 = full_data['3%'].median()\n",
        "full_data['Position'].fillna(\"NA\", inplace= True)\n",
        "full_data['mpg'].fillna(median_mpg, inplace = True)\n",
        "full_data['spg'].fillna(median_spg, inplace = True)\n",
        "full_data['bpg'].fillna(median_bpg, inplace = True)\n",
        "full_data['3%'].fillna(median_3, inplace = True)"
      ],
      "execution_count": 0,
      "outputs": []
    },
    {
      "cell_type": "markdown",
      "metadata": {
        "id": "l5_Wmp7U5bck",
        "colab_type": "text"
      },
      "source": [
        "First I wanted to find which variables would be best used in the model so I got the cv score for each of the different features."
      ]
    },
    {
      "cell_type": "code",
      "metadata": {
        "id": "bS1nIV7L_Zgw",
        "colab_type": "code",
        "colab": {
          "base_uri": "https://localhost:8080/",
          "height": 197
        },
        "outputId": "f4355147-50fe-4d09-a653-7a3a7bfe04e3"
      },
      "source": [
        "\n",
        "def get_cv_score(features):\n",
        "  # define pipeline\n",
        "  # calculate errors from cross-validation\n",
        "  ct = make_column_transformer(\n",
        "    (OneHotEncoder(handle_unknown='ignore'), [x for x in [\"Position\", \"Team\"] if x in features]), \n",
        "    remainder=\"passthrough\"  \n",
        "  )\n",
        "\n",
        "  pipeline = make_pipeline(\n",
        "    ct,\n",
        "    StandardScaler(with_mean=False),\n",
        "    KNeighborsClassifier(n_neighbors=7)\n",
        "  )\n",
        "\n",
        "  cv_errs = cross_val_score(pipeline, X=full_data[features], y =full_data['MVP'], \n",
        "                            cv=10, scoring=\"f1_macro\")\n",
        "\n",
        "  # calculate average of the cross-validation errors\n",
        "  return cv_errs.mean()\n",
        "\n",
        "# calculate and store errors for different feature sets\n",
        "errs = pd.Series()\n",
        "\n",
        "#test out different sets of variables\n",
        "for features in [[\"Position\", \"Team\", \"Age\", \"mpg\",\t\"ppg\",\t\"rpg\",\t\"apg\",\t\"spg\",\t\"bpg\",\t\"FG%\",\t\"3%\",\t\"FT%\"],\n",
        "                 [\"Position\", \"Team\", \"Age\", \"mpg\",\t\"ppg\",\t\"rpg\",\t\"apg\",\t\"spg\",\t\"bpg\"],\n",
        "                 [\"Position\", \"Age\", \"mpg\",\t\"ppg\",\t\"rpg\",\t\"apg\",\t\"spg\",\t\"bpg\"],\n",
        "                 [\"Team\", \"Age\", \"mpg\", \"ppg\",\t\"rpg\",\t\"apg\",\t\"spg\",\t\"bpg\"],\n",
        "                 [\"Position\", \"Team\", \"Age\", \"mpg\",\t\"ppg\",\t\"rpg\",\t\"apg\", \"FG%\",\t\"3%\",\t\"FT%\"],\n",
        "                 [\"Age\", \"mpg\",\t\"ppg\",\t\"rpg\",\t\"apg\", \"FG%\",\t\"3%\",\t\"FT%\"],\n",
        "                 [\"Age\", \"mpg\",\t\"ppg\",\t\"rpg\",\t\"apg\", \"spg\", \"bpg\"],\n",
        "                 [\"mpg\",\t\"ppg\"]\n",
        "                 ]:\n",
        "  errs[str(features)] = get_cv_score(features)\n",
        "\n",
        "errs"
      ],
      "execution_count": 4,
      "outputs": [
        {
          "output_type": "execute_result",
          "data": {
            "text/plain": [
              "['Position', 'Team', 'Age', 'mpg', 'ppg', 'rpg', 'apg', 'spg', 'bpg', 'FG%', '3%', 'FT%']    0.487623\n",
              "['Position', 'Team', 'Age', 'mpg', 'ppg', 'rpg', 'apg', 'spg', 'bpg']                        0.487197\n",
              "['Position', 'Age', 'mpg', 'ppg', 'rpg', 'apg', 'spg', 'bpg']                                0.497894\n",
              "['Team', 'Age', 'mpg', 'ppg', 'rpg', 'apg', 'spg', 'bpg']                                    0.488756\n",
              "['Position', 'Team', 'Age', 'mpg', 'ppg', 'rpg', 'apg', 'FG%', '3%', 'FT%']                  0.487620\n",
              "['Age', 'mpg', 'ppg', 'rpg', 'apg', 'FG%', '3%', 'FT%']                                      0.488472\n",
              "['Age', 'mpg', 'ppg', 'rpg', 'apg', 'spg', 'bpg']                                            0.487908\n",
              "['mpg', 'ppg']                                                                               0.489321\n",
              "dtype: float64"
            ]
          },
          "metadata": {
            "tags": []
          },
          "execution_count": 4
        }
      ]
    },
    {
      "cell_type": "markdown",
      "metadata": {
        "id": "8X0YoRpB51nu",
        "colab_type": "text"
      },
      "source": [
        "As you can see the third list of variables turned out to be the best set. I then used these variables to try and find the best scalar to use. This also turned out to be the same as what I was already using, a standard scaler."
      ]
    },
    {
      "cell_type": "code",
      "metadata": {
        "id": "ScwxwXxie_Rr",
        "colab_type": "code",
        "colab": {
          "base_uri": "https://localhost:8080/",
          "height": 126
        },
        "outputId": "aacb7c3e-9a6d-4640-b6f8-d4c3b971436b"
      },
      "source": [
        "from sklearn.preprocessing import StandardScaler, Normalizer, MaxAbsScaler, RobustScaler\n",
        "def get_cv_error(features):\n",
        "  # define pipeline\n",
        "  # calculate errors from cross-validation\n",
        "  ct = make_column_transformer(\n",
        "    (OneHotEncoder(handle_unknown='ignore'), [\"Position\"]), \n",
        "    remainder=\"passthrough\"  \n",
        "  )\n",
        "\n",
        "    \n",
        "  pipeline = make_pipeline(\n",
        "      ct,\n",
        "      features,\n",
        "      KNeighborsClassifier(n_neighbors=7)\n",
        "\n",
        "  )\n",
        "\n",
        "  cv_errs = cross_val_score(pipeline, X=full_data[['Position', 'Age', 'mpg', 'ppg', 'rpg', 'apg', 'spg', 'bpg']], y =full_data['MVP'], \n",
        "                            cv=10, scoring=\"f1_macro\")\n",
        "  # calculate average of the cross-validation errors\n",
        "  return cv_errs.mean()\n",
        "\n",
        "errs = pd.Series()\n",
        "for features in [StandardScaler(with_mean=False), Normalizer(), MaxAbsScaler(), RobustScaler(with_centering=False)]:\n",
        "  errs[str(features)] = get_cv_error(features)\n",
        "errs"
      ],
      "execution_count": 5,
      "outputs": [
        {
          "output_type": "execute_result",
          "data": {
            "text/plain": [
              "StandardScaler(copy=True, with_mean=False, with_std=True)                                                      0.497894\n",
              "Normalizer(copy=True, norm='l2')                                                                               0.489461\n",
              "MaxAbsScaler(copy=True)                                                                                        0.486747\n",
              "RobustScaler(copy=True, quantile_range=(25.0, 75.0), with_centering=False,\\n             with_scaling=True)    0.488190\n",
              "dtype: float64"
            ]
          },
          "metadata": {
            "tags": []
          },
          "execution_count": 5
        }
      ]
    },
    {
      "cell_type": "markdown",
      "metadata": {
        "id": "0ZFON3Fy6XXn",
        "colab_type": "text"
      },
      "source": [
        "Finally I wanted to get the best number of nearest neighbors. It turns out that 1 was the best just because my recall is so low. "
      ]
    },
    {
      "cell_type": "code",
      "metadata": {
        "id": "5mg3BFrwqRkm",
        "colab_type": "code",
        "colab": {
          "base_uri": "https://localhost:8080/",
          "height": 372
        },
        "outputId": "b9c1f2da-05b3-41a5-ea25-08a038aa53dc"
      },
      "source": [
        "def get_cv_error(k):\n",
        "  # define pipeline\n",
        "  # calculate errors from cross-validation\n",
        "  ct = make_column_transformer(\n",
        "    (OneHotEncoder(handle_unknown='ignore'), [\"Position\"]), \n",
        "    remainder=\"passthrough\"  \n",
        "  )\n",
        "\n",
        "    \n",
        "  pipeline = make_pipeline(\n",
        "      ct,\n",
        "      StandardScaler(with_mean=False),\n",
        "      KNeighborsClassifier(n_neighbors= k)\n",
        "  )\n",
        "\n",
        "  cv_errs = cross_val_score(pipeline, X=full_data[['Position', 'Age', 'mpg', 'ppg', 'rpg', 'apg', 'spg', 'bpg']], y =full_data['MVP'], \n",
        "                            cv=10, scoring=\"f1_macro\")\n",
        "\n",
        "  # calculate average of the cross-validation errors\n",
        "  return cv_errs.mean()\n",
        "\n",
        "ks = pd.Series(range(1, 30))\n",
        "ks.index = range(1, 30)\n",
        "test_errs = ks.apply(get_cv_error)\n",
        "\n",
        "test_errs.plot.line()\n",
        "test_errs.sort_values(ascending=False).head(5)"
      ],
      "execution_count": 6,
      "outputs": [
        {
          "output_type": "execute_result",
          "data": {
            "text/plain": [
              "1     0.520406\n",
              "3     0.512218\n",
              "7     0.497894\n",
              "18    0.490019\n",
              "12    0.490019\n",
              "dtype: float64"
            ]
          },
          "metadata": {
            "tags": []
          },
          "execution_count": 6
        },
        {
          "output_type": "display_data",
          "data": {
            "image/png": "[encoded data removed]",
            "text/plain": [
              "<Figure size 432x288 with 1 Axes>"
            ]
          },
          "metadata": {
            "tags": []
          }
        }
      ]
    },
    {
      "cell_type": "markdown",
      "metadata": {
        "id": "egKoKsLf7Ibh",
        "colab_type": "text"
      },
      "source": [
        "In my final model I used the previous best features that I found. I then got the prediction probabilities for each player."
      ]
    },
    {
      "cell_type": "code",
      "metadata": {
        "id": "Xw9iIRtssBXu",
        "colab_type": "code",
        "colab": {
          "base_uri": "https://localhost:8080/",
          "height": 461
        },
        "outputId": "f5848c8f-8f53-45c9-844d-2933112d0b9d"
      },
      "source": [
        " X_train =full_data[['Position', 'Age', 'mpg', 'ppg', 'rpg', 'apg', 'spg', 'bpg']]\n",
        " y_train =full_data['MVP']\n",
        " X_test = prediction_data[['Position', 'Age', 'mpg', 'ppg', 'rpg', 'apg', 'spg', 'bpg']]\n",
        "\n",
        "ct = make_column_transformer(\n",
        "    (OneHotEncoder(handle_unknown='ignore'), [\"Position\"]), \n",
        "    remainder=\"passthrough\"  \n",
        "  )\n",
        "\n",
        "    \n",
        "pipeline = make_pipeline(\n",
        "      ct,\n",
        "      StandardScaler(with_mean=False),\n",
        "      #I chose to use 7 as 1 and 3 limit the prediction capabilities.\n",
        "       KNeighborsClassifier(n_neighbors= 7)\n",
        "  )\n",
        "\n",
        "pipeline.fit(X_train, y_train)\n",
        "\n",
        "pipeline.predict_proba(X_test)\n"
      ],
      "execution_count": 7,
      "outputs": [
        {
          "output_type": "execute_result",
          "data": {
            "text/plain": [
              "array([[0.85714286, 0.14285714],\n",
              "       [1.        , 0.        ],\n",
              "       [0.85714286, 0.14285714],\n",
              "       [0.57142857, 0.42857143],\n",
              "       [1.        , 0.        ],\n",
              "       [1.        , 0.        ],\n",
              "       [1.        , 0.        ],\n",
              "       [1.        , 0.        ],\n",
              "       [0.85714286, 0.14285714],\n",
              "       [0.85714286, 0.14285714],\n",
              "       [1.        , 0.        ],\n",
              "       [1.        , 0.        ],\n",
              "       [1.        , 0.        ],\n",
              "       [1.        , 0.        ],\n",
              "       [1.        , 0.        ],\n",
              "       [1.        , 0.        ],\n",
              "       [1.        , 0.        ],\n",
              "       [0.85714286, 0.14285714],\n",
              "       [1.        , 0.        ],\n",
              "       [1.        , 0.        ],\n",
              "       [1.        , 0.        ],\n",
              "       [1.        , 0.        ],\n",
              "       [1.        , 0.        ],\n",
              "       [1.        , 0.        ],\n",
              "       [0.85714286, 0.14285714]])"
            ]
          },
          "metadata": {
            "tags": []
          },
          "execution_count": 7
        }
      ]
    },
    {
      "cell_type": "markdown",
      "metadata": {
        "id": "hphCHA6l7pl_",
        "colab_type": "text"
      },
      "source": [
        "It turns out that the model predicts James Harden the MVP. This makes alot of sense as stastically Harden is the best statistically. As seen by the stats displayed below, he scores alot and tends to \"pat\" the stats alot which helps him out. "
      ]
    },
    {
      "cell_type": "code",
      "metadata": {
        "id": "6jBz3iYU1vSd",
        "colab_type": "code",
        "colab": {}
      },
      "source": [
        "prediction_data.reset_index(inplace=True)"
      ],
      "execution_count": 0,
      "outputs": []
    },
    {
      "cell_type": "code",
      "metadata": {
        "id": "5I5Px8CU2R5O",
        "colab_type": "code",
        "colab": {
          "base_uri": "https://localhost:8080/",
          "height": 337
        },
        "outputId": "bab7b9ee-fb94-4db2-f2f7-f35ff4524892"
      },
      "source": [
        "prediction_data.iloc[3]"
      ],
      "execution_count": 9,
      "outputs": [
        {
          "output_type": "execute_result",
          "data": {
            "text/plain": [
              "index                    623\n",
              "Season               2019-20\n",
              "Player          James Harden\n",
              "Position                  SG\n",
              "Team                     HOU\n",
              "Age                       30\n",
              "games_played              61\n",
              "mpg                     36.7\n",
              "ppg                     34.4\n",
              "rpg                      6.4\n",
              "apg                      7.4\n",
              "spg                      1.7\n",
              "bpg                      0.9\n",
              "FG%                    0.435\n",
              "3%                     0.352\n",
              "FT%                    0.861\n",
              "MVP                        0\n",
              "Name: 3, dtype: object"
            ]
          },
          "metadata": {
            "tags": []
          },
          "execution_count": 9
        }
      ]
    },
    {
      "cell_type": "markdown",
      "metadata": {
        "id": "3TcCWI1j8fzr",
        "colab_type": "text"
      },
      "source": [
        "##Conclusion\n",
        "In retrospect there are a couple problems that came up along the way. First was the decision to use ABA mvp's the same as NBA mvp's. This maybe skewed the data a little as there were more mvp's in the early years of the NBA rather than the later years. Another problem I ran into was that my model was getting a super low recall. This came to be because there are not alot of mvp's but there are alot of allstars so when it came to predicting mvp's I could get decent accuracy and precision because you just predict that all are not mvp's but recall was super low. My attempt to try and predict mvp's just using basic stats was not all that succesful unfortuanately but I learned alot about creating and making models, along with data collection and analysis. \n",
        "\n"
      ]
    }
  ]
}